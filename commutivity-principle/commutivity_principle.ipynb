{
 "cells": [
  {
   "cell_type": "markdown",
   "id": "7c70557f-00f0-49ca-ba5b-bea4d7ae04cf",
   "metadata": {},
   "source": [
    "# Commutative Principle\n",
    "\n",
    "The **commutative principle** says:\n",
    "\n",
    "> The order of applying an operation does not affect the outcome.\n",
    "\n",
    "Formally:\n",
    "For an operation $\\star$, it is **commutative** if for all elements $a$ and $b$:\n",
    "\n",
    "$$\n",
    "a \\star b = b \\star a\n",
    "$$\n",
    "\n",
    "## Examples in Math\n",
    "\n",
    "* **Addition (commutative):**\n",
    "  $a + b = b + a$ (e.g., $2 + 5 = 5 + 2 = 7$)\n",
    "\n",
    "* **Multiplication (commutative):**\n",
    "  $a \\times b = b \\times a$ (e.g., $4 \\times 6 = 6 \\times 4 = 24$)\n",
    "\n",
    "* **Subtraction (not commutative):**\n",
    "  $7 - 3 \\neq 3 - 7$\n",
    "\n",
    "* **Division (not commutative):**\n",
    "  $8 \\div 4 \\neq 4 \\div 8$\n",
    "\n",
    "## Beyond Arithmetic\n",
    "\n",
    "The principle applies in **algebra and abstract mathematics** too:\n",
    "\n",
    "* **Set operations:**\n",
    "  $A \\cup B = B \\cup A$\n",
    "  $A \\cap B = B \\cap A$\n",
    "\n",
    "* **Logic:**\n",
    "  $p \\lor q = q \\lor p$\n",
    "  $p \\land q = q \\land p$\n",
    "\n",
    "* **Matrix multiplication:** usually **not commutative** ($AB \\neq BA$)\n",
    "\n",
    "## Why it Matters\n",
    "\n",
    "Commutativity tells us which operations allow flexibility in order.\n",
    "\n",
    "* In **arithmetic**, it makes calculations simpler.\n",
    "* In **algebra**, it defines structure (e.g., “commutative groups” or “commutative rings”).\n",
    "* In **programming**, it influences whether you can safely rearrange operations without changing results.\n",
    "\n",
    "So, **commutativity in general means: swap the order of two elements, and nothing changes — if the operation is commutative.**"
   ]
  },
  {
   "cell_type": "markdown",
   "id": "0215983f-1d14-4d7c-91da-1a92e2ac9785",
   "metadata": {},
   "source": [
    "## Practice Example\n",
    "\n",
    "In the next practice example, we will show the commutivity principle in action. The code will generate two random numbers and test the hypothesis that swapping the order of multiplication has no impact on the result.\n",
    "\n",
    "$a \\cdot b - b \\cdot a = 0$"
   ]
  },
  {
   "cell_type": "markdown",
   "id": "b865a90a-a9e5-4181-ba6a-b3c2fcc3e8cc",
   "metadata": {},
   "source": [
    "First we have to import the module:"
   ]
  },
  {
   "cell_type": "code",
   "execution_count": 4,
   "id": "8be5a848-45f1-446b-a271-c7098b7c7471",
   "metadata": {},
   "outputs": [],
   "source": [
    "import numpy as np"
   ]
  },
  {
   "cell_type": "markdown",
   "id": "47372999-116a-47ff-a7e5-2884a84e9da1",
   "metadata": {},
   "source": [
    "Next define two numbers:"
   ]
  },
  {
   "cell_type": "code",
   "execution_count": 5,
   "id": "884d8491-5761-4a75-9172-a3efdbd94150",
   "metadata": {},
   "outputs": [],
   "source": [
    "a = np.random.randn()\n",
    "b = np.random.randn()"
   ]
  },
  {
   "cell_type": "markdown",
   "id": "9a13a899-2e94-4d74-a873-8586aa58af20",
   "metadata": {},
   "source": [
    "Next test our commutivity hypothesis (must give `0.0`):"
   ]
  },
  {
   "cell_type": "code",
   "execution_count": 7,
   "id": "074e3ff8-0b65-4529-bc21-8f3ad84d49c9",
   "metadata": {},
   "outputs": [
    {
     "data": {
      "text/plain": [
       "0.0"
      ]
     },
     "execution_count": 7,
     "metadata": {},
     "output_type": "execute_result"
    }
   ],
   "source": [
    "a*b - b*a"
   ]
  }
 ],
 "metadata": {
  "kernelspec": {
   "display_name": "Python 3 (ipykernel)",
   "language": "python",
   "name": "python3"
  },
  "language_info": {
   "codemirror_mode": {
    "name": "ipython",
    "version": 3
   },
   "file_extension": ".py",
   "mimetype": "text/x-python",
   "name": "python",
   "nbconvert_exporter": "python",
   "pygments_lexer": "ipython3",
   "version": "3.12.4"
  }
 },
 "nbformat": 4,
 "nbformat_minor": 5
}
